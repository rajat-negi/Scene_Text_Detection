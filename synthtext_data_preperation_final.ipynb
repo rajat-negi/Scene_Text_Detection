{
  "nbformat": 4,
  "nbformat_minor": 0,
  "metadata": {
    "kernelspec": {
      "display_name": "Python 3",
      "language": "python",
      "name": "python3"
    },
    "language_info": {
      "codemirror_mode": {
        "name": "ipython",
        "version": 3
      },
      "file_extension": ".py",
      "mimetype": "text/x-python",
      "name": "python",
      "nbconvert_exporter": "python",
      "pygments_lexer": "ipython3",
      "version": "3.8.5"
    },
    "colab": {
      "name": "synthtext_data_preperation_final.ipynb",
      "provenance": []
    }
  },
  "cells": [
    {
      "cell_type": "code",
      "metadata": {
        "id": "pj6BWSfRmdq8"
      },
      "source": [
        "import numpy as np\n",
        "import pandas as pd\n",
        "import matplotlib.pyplot as plt\n",
        "from tqdm import tqdm\n",
        "import random\n",
        "\n",
        "import cv2\n",
        "from PIL import Image, ImagePath, ImageDraw\n",
        "import os\n",
        "import glob\n",
        "import csv\n",
        "import pathlib\n",
        "from pathlib import Path\n",
        "import re\n",
        "import math\n",
        "from sklearn.model_selection import train_test_split\n",
        "\n",
        "import tensorflow as tf\n",
        "from tensorflow.keras.layers import Input, Conv2D, BatchNormalization, Activation, MaxPooling2D, Reshape, Dense, GRU, Bidirectional\n",
        "from tensorflow.keras.callbacks import ReduceLROnPlateau, ModelCheckpoint, EarlyStopping, TensorBoard\n",
        "from tensorflow.keras.models import Model, load_model\n",
        "import tensorflow.keras.backend as K\n",
        "import scipy.io as sio\n",
        "from shapely.geometry import Polygon\n",
        "\n",
        "import warnings\n",
        "warnings.filterwarnings(\"ignore\")\n",
        "colab_path = \"/content/drive/MyDrive/\""
      ],
      "execution_count": null,
      "outputs": []
    },
    {
      "cell_type": "code",
      "metadata": {
        "id": "0DlIalRImdrJ"
      },
      "source": [
        "#loading dataset\n",
        "dataset = sio.loadmat('SynthText/gt.mat')\n",
        "\n",
        "#extracting image paths and saving them in a file\n",
        "image_paths = [names[0] for names in dataset['imnames'][0]]\n",
        "with open('synthesized/image_paths.txt', 'w') as f:\n",
        "    for path in image_paths:\n",
        "        f.write(\"%s\\n\" % path)\n",
        "        \n",
        "# #extracting text from the dataset        \n",
        "# all_word_list = []\n",
        "# for img_words in dataset['txt'][0, :]:\n",
        "#     img_word_list = []\n",
        "#     for words in img_words:\n",
        "#         for word in [item for sublist in [i.strip().split(' ') for i in words.split('\\n')] for item in sublist]:\n",
        "#             if word != '':\n",
        "#                 img_word_list.append(word)\n",
        "#     all_word_list.append(img_word_list)"
      ],
      "execution_count": null,
      "outputs": []
    },
    {
      "cell_type": "code",
      "metadata": {
        "id": "4PWcQRZKmdrL"
      },
      "source": [
        ""
      ],
      "execution_count": null,
      "outputs": []
    },
    {
      "cell_type": "code",
      "metadata": {
        "id": "VkkhUa5fmdrM",
        "outputId": "415dedec-89f5-4f99-c4b5-5e1b3c1536e6"
      },
      "source": [
        "# this code is to save files in the same folder number as their images \n",
        "# ex: 1/ant+hill_100_0.jpg and text file will be in 1/ant+hill_100_0.txt\n",
        "itera = 0\n",
        "for polys, words, img_path in tqdm(zip(dataset['wordBB'][0, :], dataset_word_list, image_paths)):\n",
        "\n",
        "    # fix poly\n",
        "    if len(polys.shape) == 2:\n",
        "        polys = polys[:, :, np.newaxis]\n",
        "    \n",
        "    polys = polys.T\n",
        "    \n",
        "    # check if all match up\n",
        "    if polys.shape[0] != len(words):\n",
        "        print('number of polys and words do not match')\n",
        "        print(itera)\n",
        "        break\n",
        "    itera += 1\n",
        "    \n",
        "    # write file\n",
        "    folder_path = 'synthesized/annotate_with_folders/' + img_path.split(\"/\")[0]\n",
        "    if not os.path.isdir(folder_path):\n",
        "        os.mkdir(folder_path)\n",
        "        \n",
        "    with open('synthesized/annotate_with_folders/{}/{}.txt'.format(img_path.split(\"/\")[0], img_path.split('/')[1].split('.')[0]), 'w') as f:\n",
        "        for poly, word in zip(polys, words):\n",
        "            line = np.around(poly, 1).ravel()\n",
        "            line = np.concatenate([line, [word]], axis = 0)\n",
        "            newline = line[0]\n",
        "            for words in line[1:]:\n",
        "                newline += \",\" + words\n",
        "            f.write(newline + \"\\n\")"
      ],
      "execution_count": null,
      "outputs": [
        {
          "output_type": "stream",
          "text": [
            "858750it [23:47, 601.72it/s] \n"
          ],
          "name": "stderr"
        }
      ]
    },
    {
      "cell_type": "code",
      "metadata": {
        "id": "jwUzcWeXmdrQ"
      },
      "source": [
        "#vocab creation\n",
        "total_words_list = []\n",
        "for i in dataset_word_list:\n",
        "    total_words_list.extend(i)\n",
        "    \n",
        "NUM_CLASSES = set(total_words_list)"
      ],
      "execution_count": null,
      "outputs": []
    },
    {
      "cell_type": "code",
      "metadata": {
        "id": "a3t-NlsbmdrV"
      },
      "source": [
        "#creating a dataframe with iages and groundtruth path\n",
        "image_paths = \"synthetic_data/images/\"\n",
        "gt_path = \"synthetic_data/ground_truth/\"\n",
        "\n",
        "images_list = []\n",
        "for i in os.listdir(image_paths):\n",
        "    new_path = image_paths + str(i) + \"/\"\n",
        "    for j in os.listdir(new_path):\n",
        "        images_list.append(new_path + j)\n",
        "images_list = np.array(sorted(images_list))\n",
        "        \n",
        "gt_path_list = []\n",
        "for i in os.listdir(gt_path):\n",
        "    new_path = gt_path + str(i) + \"/\"\n",
        "    for j in os.listdir(new_path):\n",
        "        gt_path_list.append(new_path + j)\n",
        "gt_path_list = np.array(sorted(gt_path_list))\n",
        "\n",
        "df = pd.DataFrame(list(zip(images_list, gt_path_list)), columns = ['images_path', 'gt_path'])"
      ],
      "execution_count": null,
      "outputs": []
    },
    {
      "cell_type": "code",
      "metadata": {
        "id": "Kia7D0gkmdrW",
        "outputId": "0a4e746b-4320-428a-ab69-a0087751b554"
      },
      "source": [
        "# images_list\n",
        "df.head()"
      ],
      "execution_count": null,
      "outputs": [
        {
          "output_type": "execute_result",
          "data": {
            "text/html": [
              "<div>\n",
              "<style scoped>\n",
              "    .dataframe tbody tr th:only-of-type {\n",
              "        vertical-align: middle;\n",
              "    }\n",
              "\n",
              "    .dataframe tbody tr th {\n",
              "        vertical-align: top;\n",
              "    }\n",
              "\n",
              "    .dataframe thead th {\n",
              "        text-align: right;\n",
              "    }\n",
              "</style>\n",
              "<table border=\"1\" class=\"dataframe\">\n",
              "  <thead>\n",
              "    <tr style=\"text-align: right;\">\n",
              "      <th></th>\n",
              "      <th>images_path</th>\n",
              "      <th>gt_path</th>\n",
              "    </tr>\n",
              "  </thead>\n",
              "  <tbody>\n",
              "    <tr>\n",
              "      <th>0</th>\n",
              "      <td>synthetic_data/images/1/ant+hill_100_0.jpg</td>\n",
              "      <td>synthetic_data/ground_truth/1/ant+hill_100_0.txt</td>\n",
              "    </tr>\n",
              "    <tr>\n",
              "      <th>1</th>\n",
              "      <td>synthetic_data/images/1/ant+hill_100_1.jpg</td>\n",
              "      <td>synthetic_data/ground_truth/1/ant+hill_100_1.txt</td>\n",
              "    </tr>\n",
              "    <tr>\n",
              "      <th>2</th>\n",
              "      <td>synthetic_data/images/1/ant+hill_100_10.jpg</td>\n",
              "      <td>synthetic_data/ground_truth/1/ant+hill_100_10.txt</td>\n",
              "    </tr>\n",
              "    <tr>\n",
              "      <th>3</th>\n",
              "      <td>synthetic_data/images/1/ant+hill_100_100.jpg</td>\n",
              "      <td>synthetic_data/ground_truth/1/ant+hill_100_100...</td>\n",
              "    </tr>\n",
              "    <tr>\n",
              "      <th>4</th>\n",
              "      <td>synthetic_data/images/1/ant+hill_100_101.jpg</td>\n",
              "      <td>synthetic_data/ground_truth/1/ant+hill_100_101...</td>\n",
              "    </tr>\n",
              "  </tbody>\n",
              "</table>\n",
              "</div>"
            ],
            "text/plain": [
              "                                    images_path  \\\n",
              "0    synthetic_data/images/1/ant+hill_100_0.jpg   \n",
              "1    synthetic_data/images/1/ant+hill_100_1.jpg   \n",
              "2   synthetic_data/images/1/ant+hill_100_10.jpg   \n",
              "3  synthetic_data/images/1/ant+hill_100_100.jpg   \n",
              "4  synthetic_data/images/1/ant+hill_100_101.jpg   \n",
              "\n",
              "                                             gt_path  \n",
              "0   synthetic_data/ground_truth/1/ant+hill_100_0.txt  \n",
              "1   synthetic_data/ground_truth/1/ant+hill_100_1.txt  \n",
              "2  synthetic_data/ground_truth/1/ant+hill_100_10.txt  \n",
              "3  synthetic_data/ground_truth/1/ant+hill_100_100...  \n",
              "4  synthetic_data/ground_truth/1/ant+hill_100_101...  "
            ]
          },
          "metadata": {
            "tags": []
          },
          "execution_count": 140
        }
      ]
    },
    {
      "cell_type": "code",
      "metadata": {
        "id": "0vGVcgawmdrY",
        "outputId": "324edfdb-9eaa-4ed0-90c7-17d1529600c2"
      },
      "source": [
        "#checking if images path and ground_truth path are of same image\n",
        "for i,j in zip(images_list, gt_path_list):\n",
        "    is_ok = True\n",
        "    if not i.split(\"/\")[-1][:-4] == j.split(\"/\")[-1][:-4]:\n",
        "        is_ok = False\n",
        "        print(\"error\")\n",
        "        break\n",
        "if is_ok:\n",
        "    print(\"everything ok\")"
      ],
      "execution_count": null,
      "outputs": [
        {
          "output_type": "stream",
          "text": [
            "everything ok\n"
          ],
          "name": "stdout"
        }
      ]
    },
    {
      "cell_type": "code",
      "metadata": {
        "id": "8xDZFMY8mdra"
      },
      "source": [
        "def load_annotation(p):\n",
        "    '''\n",
        "    load polygon coordinate and text from the text file for corresponding image\n",
        "    here p is name of image file whose cooresponding annotation we want \n",
        "    '''\n",
        "    text_polys = []\n",
        "    text_tags = []\n",
        "    if not os.path.exists(p):\n",
        "        return np.array(text_polys, dtype=np.float32), np.array(text_tags, dtype=np.int32)\n",
        "    with open(p, 'r') as f:\n",
        "        #Reading our data\n",
        "        reader = f.readlines()\n",
        "        for line in reader:            \n",
        "            line= line.replace(\"\\n\", \"\")\n",
        "            line = line.replace('\\xef\\xbb\\bf', '')\n",
        "            line = line.replace('\\xe2\\x80\\x8d', '')\n",
        "            line = line.strip()\n",
        "            line = line.split(',')\n",
        "            #Taking word level locations to plot bounding box i.e,377,117,463,117,465,130,378,130\n",
        "            x1, y1, x2, y2, x3, y3, x4, y4 = list(map(float, line[:8]))\n",
        "            #Appending coordinates\n",
        "            text_polys.append([[x1, y1], [x2, y2], [x3, y3], [x4, y4]])\n",
        "            \n",
        "            \n",
        "            if len(line) > 9:\n",
        "                label = \",\".join(line[9:])\n",
        "            else:\n",
        "                label = line[-1]\n",
        "                \n",
        "            #Appending words and ###\n",
        "            if label == '*' or label == '###' or label == '':\n",
        "                text_tags.append(None)\n",
        "            else:\n",
        "                text_tags.append(label)\n",
        "\n",
        "        return np.array(text_polys, dtype=np.float32), np.array(text_tags)"
      ],
      "execution_count": null,
      "outputs": []
    },
    {
      "cell_type": "code",
      "metadata": {
        "id": "qXpgMDnfmdrc"
      },
      "source": [
        "# This Function is used to calculate AREA of polygon\n",
        "def polygon_area(poly):\n",
        "    '''\n",
        "    compute area of a polygon\n",
        "    '''\n",
        "    edge = [\n",
        "        (poly[1][0] - poly[0][0]) * (poly[1][1] + poly[0][1]),\n",
        "        (poly[2][0] - poly[1][0]) * (poly[2][1] + poly[1][1]),\n",
        "        (poly[3][0] - poly[2][0]) * (poly[3][1] + poly[2][1]),\n",
        "        (poly[0][0] - poly[3][0]) * (poly[0][1] + poly[3][1])\n",
        "    ]\n",
        "    return np.sum(edge)/2."
      ],
      "execution_count": null,
      "outputs": []
    },
    {
      "cell_type": "code",
      "metadata": {
        "id": "pj34iWWEmdrd"
      },
      "source": [
        "#https://github.com/argman/EAST/blob/master/icdar.py\n",
        "\n",
        "def is_polygon(poly):\n",
        "    for i in range(3):\n",
        "        p0 = poly[i]\n",
        "\n",
        "        p1 = poly[(i + 1) % 4]\n",
        "        p2 = poly[(i + 2) % 4]\n",
        "\n",
        "        if p0[0] == p1[0] and p1[1] == p0[1]:\n",
        "            return False\n",
        "        if p0[0] == p2[0] and p2[1] == p0[1]:\n",
        "            return False\n",
        "        if p1[0] == p2[0] and p1[1] == p2[1]:\n",
        "            return False\n",
        "\n",
        "        if p0[0] == p1[0]:\n",
        "            if p1[0] == p2[0]:\n",
        "                return False\n",
        "        else:\n",
        "            if p1[0] != p2[0]:\n",
        "                k1 = (p1[1] - p0[1]) / (p1[0] - p0[0])\n",
        "                k2 = (p2[1] - p1[1]) / (p2[0] - p1[0])\n",
        "                if abs(k1 - k2) < 1e-6:\n",
        "                    return False\n",
        "                else:\n",
        "                    if p1[1] == p2[1]:\n",
        "                        return False\n",
        "\n",
        "    return True"
      ],
      "execution_count": null,
      "outputs": []
    },
    {
      "cell_type": "code",
      "metadata": {
        "id": "q6dUSRP-mdre"
      },
      "source": [
        "#3\n",
        "# This function is used to discard invalid polygons and check direction of them\n",
        "# https://github.com/Masao-Taketani/FOTS_OCR\n",
        "\n",
        "\n",
        "#https://github.com/argman/EAST/blob/master/icdar.py\n",
        "def check_and_validate_polys(polys, tags, xxx_todo_changeme):\n",
        "    '''\n",
        "    check so that the text poly is in the same direction,\n",
        "    and also filter some invalid polygons\n",
        "    :param polys:\n",
        "    :param tags:\n",
        "    :return:\n",
        "    '''\n",
        "    #Taking height and width of the image\n",
        "    (h, w) = xxx_todo_changeme\n",
        "    if polys.shape[0] == 0:\n",
        "        return polys\n",
        "    polys[:, :, 0] = np.clip(polys[:, :, 0], 0, w-1)\n",
        "    polys[:, :, 1] = np.clip(polys[:, :, 1], 0, h-1)\n",
        "\n",
        "    validated_polys = []\n",
        "    validated_tags = []\n",
        "    for poly, tag in zip(polys, tags):\n",
        "        p_area = polygon_area(poly)\n",
        "        \n",
        "        # memory error after hitting not a polygon !!!\n",
        "        if is_polygon(poly) is False:\n",
        "            #print(\"not a polygon: \", poly)\n",
        "            continue\n",
        "        \n",
        "        if abs(p_area) < 1:\n",
        "#             print('invalid poly')\n",
        "            continue\n",
        "        if p_area > 0:\n",
        "#             print('poly in wrong direction')\n",
        "            poly = poly[(0, 3, 2, 1), :]\n",
        "        validated_polys.append(poly)\n",
        "        validated_tags.append(tag)\n",
        "        \n",
        "    return np.array(validated_polys), validated_tags\n"
      ],
      "execution_count": null,
      "outputs": []
    },
    {
      "cell_type": "code",
      "metadata": {
        "id": "F206f_hzmdro"
      },
      "source": [
        "#https://github.com/argman/EAST/blob/master/icdar.py\n",
        "\n",
        "#This function is implementation of Polygon Shrinkage Algorithm \n",
        "def shrink_poly(poly, r):\n",
        "    '''\n",
        "    fit a poly inside the origin poly\n",
        "    used for generate the score map\n",
        "    '''\n",
        "    # shrink ratio\n",
        "    R = 0.3\n",
        "    # find the longer pair\n",
        "    if np.linalg.norm(poly[0] - poly[1]) + np.linalg.norm(poly[2] - poly[3]) > \\\n",
        "                    np.linalg.norm(poly[0] - poly[3]) + np.linalg.norm(poly[1] - poly[2]):\n",
        "        # first move (p0, p1), (p2, p3), then (p0, p3), (p1, p2)\n",
        "        ## p0, p1\n",
        "        theta = np.arctan2((poly[1][1] - poly[0][1]), (poly[1][0] - poly[0][0]))\n",
        "        poly[0][0] += R * r[0] * np.cos(theta)\n",
        "        poly[0][1] += R * r[0] * np.sin(theta)\n",
        "        poly[1][0] -= R * r[1] * np.cos(theta)\n",
        "        poly[1][1] -= R * r[1] * np.sin(theta)\n",
        "        ## p2, p3\n",
        "        theta = np.arctan2((poly[2][1] - poly[3][1]), (poly[2][0] - poly[3][0]))\n",
        "        poly[3][0] += R * r[3] * np.cos(theta)\n",
        "        poly[3][1] += R * r[3] * np.sin(theta)\n",
        "        poly[2][0] -= R * r[2] * np.cos(theta)\n",
        "        poly[2][1] -= R * r[2] * np.sin(theta)\n",
        "        ## p0, p3\n",
        "        theta = np.arctan2((poly[3][0] - poly[0][0]), (poly[3][1] - poly[0][1]))\n",
        "        poly[0][0] += R * r[0] * np.sin(theta)\n",
        "        poly[0][1] += R * r[0] * np.cos(theta)\n",
        "        poly[3][0] -= R * r[3] * np.sin(theta)\n",
        "        poly[3][1] -= R * r[3] * np.cos(theta)\n",
        "        ## p1, p2\n",
        "        theta = np.arctan2((poly[2][0] - poly[1][0]), (poly[2][1] - poly[1][1]))\n",
        "        poly[1][0] += R * r[1] * np.sin(theta)\n",
        "        poly[1][1] += R * r[1] * np.cos(theta)\n",
        "        poly[2][0] -= R * r[2] * np.sin(theta)\n",
        "        poly[2][1] -= R * r[2] * np.cos(theta)\n",
        "    else:\n",
        "        ## p0, p3\n",
        "        # print poly\n",
        "        theta = np.arctan2((poly[3][0] - poly[0][0]), (poly[3][1] - poly[0][1]))\n",
        "        poly[0][0] += R * r[0] * np.sin(theta)\n",
        "        poly[0][1] += R * r[0] * np.cos(theta)\n",
        "        poly[3][0] -= R * r[3] * np.sin(theta)\n",
        "        poly[3][1] -= R * r[3] * np.cos(theta)\n",
        "        ## p1, p2\n",
        "        theta = np.arctan2((poly[2][0] - poly[1][0]), (poly[2][1] - poly[1][1]))\n",
        "        poly[1][0] += R * r[1] * np.sin(theta)\n",
        "        poly[1][1] += R * r[1] * np.cos(theta)\n",
        "        poly[2][0] -= R * r[2] * np.sin(theta)\n",
        "        poly[2][1] -= R * r[2] * np.cos(theta)\n",
        "        ## p0, p1\n",
        "        theta = np.arctan2((poly[1][1] - poly[0][1]), (poly[1][0] - poly[0][0]))\n",
        "        poly[0][0] += R * r[0] * np.cos(theta)\n",
        "        poly[0][1] += R * r[0] * np.sin(theta)\n",
        "        poly[1][0] -= R * r[1] * np.cos(theta)\n",
        "        poly[1][1] -= R * r[1] * np.sin(theta)\n",
        "        ## p2, p3\n",
        "        theta = np.arctan2((poly[2][1] - poly[3][1]), (poly[2][0] - poly[3][0]))\n",
        "        poly[3][0] += R * r[3] * np.cos(theta)\n",
        "        poly[3][1] += R * r[3] * np.sin(theta)\n",
        "        poly[2][0] -= R * r[2] * np.cos(theta)\n",
        "        poly[2][1] -= R * r[2] * np.sin(theta)\n",
        "    return poly\n",
        "\n",
        "\n",
        "\n",
        "#Compute distance between p1-p2 and p3\n",
        "def point_dist_to_line(p1, p2, p3):\n",
        "    '''compute the distance from p3 to p1-p2'''\n",
        "    return np.linalg.norm(np.cross(p2 - p1, p1 - p3)) / np.linalg.norm(p2 - p1)\n",
        "\n",
        "#Find equation of line using two 2D points p1 and p2\n",
        "def fit_line(p1, p2):\n",
        "    '''fit a line ax+by+c = 0'''\n",
        "    if p1[0] == p1[1]:\n",
        "        return [1., 0., -p1[0]]\n",
        "    else:\n",
        "        [k, b] = np.polyfit(p1, p2, deg=1)\n",
        "        return [k, -1., b]\n",
        "\n",
        "#Find Intersection poitn of 2 lines\n",
        "def line_cross_point(line1, line2):\n",
        "    '''line1 0= ax+by+c, compute the cross point of line1 and line2'''\n",
        "    if line1[0] != 0 and line1[0] == line2[0]:\n",
        "        print('Cross point does not exist')\n",
        "        return None\n",
        "    if line1[0] == 0 and line2[0] == 0:\n",
        "        print('Cross point does not exist')\n",
        "        return None\n",
        "    if line1[1] == 0:\n",
        "        x = -line1[2]\n",
        "        y = line2[0] * x + line2[2]\n",
        "    elif line2[1] == 0:\n",
        "        x = -line2[2]\n",
        "        y = line1[0] * x + line1[2]\n",
        "    else:\n",
        "        k1, _, b1 = line1\n",
        "        k2, _, b2 = line2\n",
        "        x = -(b1-b2)/(k1-k2)\n",
        "        y = k1*x + b1\n",
        "    return np.array([x, y], dtype=np.float32)\n",
        "\n",
        "#Get Equation of line that is perpendicular to line passing through a point\n",
        "def line_verticle(line, point):\n",
        "    '''get the verticle line from line across point'''\n",
        "    if line[1] == 0:\n",
        "        verticle = [0, -1, point[1]]\n",
        "    else:\n",
        "        if line[0] == 0:\n",
        "            verticle = [1, 0, -point[0]]\n",
        "        else:\n",
        "            verticle = [-1./line[0], -1, point[1] - (-1/line[0] * point[0])]\n",
        "    return verticle\n",
        "\n",
        "# Convert a parallelogram to rectangle\n",
        "def rectangle_from_parallelogram(poly):\n",
        "    '''\n",
        "    fit a rectangle from a parallelogram\n",
        "    '''\n",
        "    p0, p1, p2, p3 = poly\n",
        "    angle_p0 = np.arccos(np.dot(p1-p0, p3-p0)/(np.linalg.norm(p0-p1) * np.linalg.norm(p3-p0)))\n",
        "    if angle_p0 < 0.5 * np.pi:\n",
        "        if np.linalg.norm(p0 - p1) > np.linalg.norm(p0-p3):\n",
        "            # p0 and p2\n",
        "            ## p0\n",
        "            p2p3 = fit_line([p2[0], p3[0]], [p2[1], p3[1]])\n",
        "            p2p3_verticle = line_verticle(p2p3, p0)\n",
        "\n",
        "            new_p3 = line_cross_point(p2p3, p2p3_verticle)\n",
        "            ## p2\n",
        "            p0p1 = fit_line([p0[0], p1[0]], [p0[1], p1[1]])\n",
        "            p0p1_verticle = line_verticle(p0p1, p2)\n",
        "\n",
        "            new_p1 = line_cross_point(p0p1, p0p1_verticle)\n",
        "            return np.array([p0, new_p1, p2, new_p3], dtype=np.float32)\n",
        "        else:\n",
        "            p1p2 = fit_line([p1[0], p2[0]], [p1[1], p2[1]])\n",
        "            p1p2_verticle = line_verticle(p1p2, p0)\n",
        "\n",
        "            new_p1 = line_cross_point(p1p2, p1p2_verticle)\n",
        "            p0p3 = fit_line([p0[0], p3[0]], [p0[1], p3[1]])\n",
        "            p0p3_verticle = line_verticle(p0p3, p2)\n",
        "\n",
        "            new_p3 = line_cross_point(p0p3, p0p3_verticle)\n",
        "            return np.array([p0, new_p1, p2, new_p3], dtype=np.float32)\n",
        "    else:\n",
        "        if np.linalg.norm(p0-p1) > np.linalg.norm(p0-p3):\n",
        "            # p1 and p3\n",
        "            ## p1\n",
        "            p2p3 = fit_line([p2[0], p3[0]], [p2[1], p3[1]])\n",
        "            p2p3_verticle = line_verticle(p2p3, p1)\n",
        "\n",
        "            new_p2 = line_cross_point(p2p3, p2p3_verticle)\n",
        "            ## p3\n",
        "            p0p1 = fit_line([p0[0], p1[0]], [p0[1], p1[1]])\n",
        "            p0p1_verticle = line_verticle(p0p1, p3)\n",
        "\n",
        "            new_p0 = line_cross_point(p0p1, p0p1_verticle)\n",
        "            return np.array([new_p0, p1, new_p2, p3], dtype=np.float32)\n",
        "        else:\n",
        "            p0p3 = fit_line([p0[0], p3[0]], [p0[1], p3[1]])\n",
        "            p0p3_verticle = line_verticle(p0p3, p1)\n",
        "\n",
        "            new_p0 = line_cross_point(p0p3, p0p3_verticle)\n",
        "            p1p2 = fit_line([p1[0], p2[0]], [p1[1], p2[1]])\n",
        "            p1p2_verticle = line_verticle(p1p2, p3)\n",
        "\n",
        "            new_p2 = line_cross_point(p1p2, p1p2_verticle)\n",
        "            return np.array([new_p0, p1, new_p2, p3], dtype=np.float32)\n",
        "\n",
        "#Sorting a rectangle to get all point in clockwies manner\n",
        "def sort_rectangle(poly):\n",
        "    '''sort the four coordinates of the polygon, points in poly should be sorted clockwise'''\n",
        "    # First find the lowest point\n",
        "    p_lowest = np.argmax(poly[:, 1])\n",
        "    if np.count_nonzero(poly[:, 1] == poly[p_lowest, 1]) == 2:\n",
        "        # if the bottom line is parallel to x-axis, then p0 must be the upper-left corner\n",
        "        p0_index = np.argmin(np.sum(poly, axis=1))\n",
        "        p1_index = (p0_index + 1) % 4\n",
        "        p2_index = (p0_index + 2) % 4\n",
        "        p3_index = (p0_index + 3) % 4\n",
        "        return poly[[p0_index, p1_index, p2_index, p3_index]], 0.\n",
        "    else:\n",
        "        # find the point that sits right to the lowest point\n",
        "        p_lowest_right = (p_lowest - 1) % 4\n",
        "        p_lowest_left = (p_lowest + 1) % 4\n",
        "        angle = np.arctan(-(poly[p_lowest][1] - poly[p_lowest_right][1])/(poly[p_lowest][0] - poly[p_lowest_right][0]))\n",
        "        # assert angle > 0\n",
        "        if angle <= 0:\n",
        "            print(angle, poly[p_lowest], poly[p_lowest_right])\n",
        "        if angle/np.pi * 180 > 45:\n",
        "            #this point is p2\n",
        "            p2_index = p_lowest\n",
        "            p1_index = (p2_index - 1) % 4\n",
        "            p0_index = (p2_index - 2) % 4\n",
        "            p3_index = (p2_index + 1) % 4\n",
        "            return poly[[p0_index, p1_index, p2_index, p3_index]], -(np.pi/2 - angle)\n",
        "        else:\n",
        "            # this point is p3\n",
        "            p3_index = p_lowest\n",
        "            p0_index = (p3_index + 1) % 4\n",
        "            p1_index = (p3_index + 2) % 4\n",
        "            p2_index = (p3_index + 3) % 4\n",
        "            return poly[[p0_index, p1_index, p2_index, p3_index]], angle\n",
        "\n",
        "\n",
        "def restore_rectangle_rbox(origin, geometry):\n",
        "    ''' Resotre rectangle tbox'''\n",
        "    d = geometry[:, :4]\n",
        "    angle = geometry[:, 4]\n",
        "    # for angle > 0\n",
        "    origin_0 = origin[angle >= 0]\n",
        "    d_0 = d[angle >= 0]\n",
        "    angle_0 = angle[angle >= 0]\n",
        "    if origin_0.shape[0] > 0:\n",
        "        p = np.array([np.zeros(d_0.shape[0]), -d_0[:, 0] - d_0[:, 2],\n",
        "                      d_0[:, 1] + d_0[:, 3], -d_0[:, 0] - d_0[:, 2],\n",
        "                      d_0[:, 1] + d_0[:, 3], np.zeros(d_0.shape[0]),\n",
        "                      np.zeros(d_0.shape[0]), np.zeros(d_0.shape[0]),\n",
        "                      d_0[:, 3], -d_0[:, 2]])\n",
        "        p = p.transpose((1, 0)).reshape((-1, 5, 2))  # N*5*2\n",
        "\n",
        "        rotate_matrix_x = np.array([np.cos(angle_0), np.sin(angle_0)]).transpose((1, 0))\n",
        "        rotate_matrix_x = np.repeat(rotate_matrix_x, 5, axis=1).reshape(-1, 2, 5).transpose((0, 2, 1))  # N*5*2\n",
        "\n",
        "        rotate_matrix_y = np.array([-np.sin(angle_0), np.cos(angle_0)]).transpose((1, 0))\n",
        "        rotate_matrix_y = np.repeat(rotate_matrix_y, 5, axis=1).reshape(-1, 2, 5).transpose((0, 2, 1))\n",
        "\n",
        "        p_rotate_x = np.sum(rotate_matrix_x * p, axis=2)[:, :, np.newaxis]  # N*5*1\n",
        "        p_rotate_y = np.sum(rotate_matrix_y * p, axis=2)[:, :, np.newaxis]  # N*5*1\n",
        "\n",
        "        p_rotate = np.concatenate([p_rotate_x, p_rotate_y], axis=2)  # N*5*2\n",
        "\n",
        "        p3_in_origin = origin_0 - p_rotate[:, 4, :]\n",
        "        new_p0 = p_rotate[:, 0, :] + p3_in_origin  # N*2\n",
        "        new_p1 = p_rotate[:, 1, :] + p3_in_origin\n",
        "        new_p2 = p_rotate[:, 2, :] + p3_in_origin\n",
        "        new_p3 = p_rotate[:, 3, :] + p3_in_origin\n",
        "\n",
        "        new_p_0 = np.concatenate([new_p0[:, np.newaxis, :], new_p1[:, np.newaxis, :],\n",
        "                                  new_p2[:, np.newaxis, :], new_p3[:, np.newaxis, :]], axis=1)  # N*4*2\n",
        "    else:\n",
        "        new_p_0 = np.zeros((0, 4, 2))\n",
        "    # for angle < 0\n",
        "    origin_1 = origin[angle < 0]\n",
        "    d_1 = d[angle < 0]\n",
        "    angle_1 = angle[angle < 0]\n",
        "    if origin_1.shape[0] > 0:\n",
        "        p = np.array([-d_1[:, 1] - d_1[:, 3], -d_1[:, 0] - d_1[:, 2],\n",
        "                      np.zeros(d_1.shape[0]), -d_1[:, 0] - d_1[:, 2],\n",
        "                      np.zeros(d_1.shape[0]), np.zeros(d_1.shape[0]),\n",
        "                      -d_1[:, 1] - d_1[:, 3], np.zeros(d_1.shape[0]),\n",
        "                      -d_1[:, 1], -d_1[:, 2]])\n",
        "        p = p.transpose((1, 0)).reshape((-1, 5, 2))  # N*5*2\n",
        "\n",
        "        rotate_matrix_x = np.array([np.cos(-angle_1), -np.sin(-angle_1)]).transpose((1, 0))\n",
        "        rotate_matrix_x = np.repeat(rotate_matrix_x, 5, axis=1).reshape(-1, 2, 5).transpose((0, 2, 1))  # N*5*2\n",
        "\n",
        "        rotate_matrix_y = np.array([np.sin(-angle_1), np.cos(-angle_1)]).transpose((1, 0))\n",
        "        rotate_matrix_y = np.repeat(rotate_matrix_y, 5, axis=1).reshape(-1, 2, 5).transpose((0, 2, 1))\n",
        "\n",
        "        p_rotate_x = np.sum(rotate_matrix_x * p, axis=2)[:, :, np.newaxis]  # N*5*1\n",
        "        p_rotate_y = np.sum(rotate_matrix_y * p, axis=2)[:, :, np.newaxis]  # N*5*1\n",
        "\n",
        "        p_rotate = np.concatenate([p_rotate_x, p_rotate_y], axis=2)  # N*5*2\n",
        "\n",
        "        p3_in_origin = origin_1 - p_rotate[:, 4, :]\n",
        "        new_p0 = p_rotate[:, 0, :] + p3_in_origin  # N*2\n",
        "        new_p1 = p_rotate[:, 1, :] + p3_in_origin\n",
        "        new_p2 = p_rotate[:, 2, :] + p3_in_origin\n",
        "        new_p3 = p_rotate[:, 3, :] + p3_in_origin\n",
        "\n",
        "        new_p_1 = np.concatenate([new_p0[:, np.newaxis, :], new_p1[:, np.newaxis, :],\n",
        "                                  new_p2[:, np.newaxis, :], new_p3[:, np.newaxis, :]], axis=1)  # N*4*2\n",
        "    else:\n",
        "        new_p_1 = np.zeros((0, 4, 2))\n",
        "    return np.concatenate([new_p_0, new_p_1])\n",
        "\n",
        "\n",
        "#Some geometrical functions used in codes\n",
        "def restore_rectangle(origin, geometry):\n",
        "    return restore_rectangle_rbox(origin, geometry)\n",
        "\n",
        "def getRotateRect(box):\n",
        "    rect = cv2.minAreaRect(box)\n",
        "\n",
        "    angle=rect[2]  # angle = [-90, 0)\n",
        "    if angle < -45:\n",
        "        rect = (rect[0], (rect[1][0], rect[1][1]), rect[2])\n",
        "        angle += 90\n",
        "        size = (rect[1][1],rect[1][0])\n",
        "    else:\n",
        "        rect = (rect[0], (rect[1][0], rect[1][1]), rect[2])\n",
        "        size=rect[1]\n",
        "\n",
        "    box_ = cv2.boxPoints(rect)\n",
        "    return np.concatenate([rect[0], size]), angle, box_\n",
        "\n",
        "\n",
        "#These Functions are used to Generate ROI params like out box,crop box & angles that we use to crop text from image\n",
        "def generate_roiRotatePara(box, angle, expand_w = 60):\n",
        "    '''Generate all ROI Parameterts'''\n",
        "    p0_rect, p1_rect, p2_rect, p3_rect = box\n",
        "    cxy = (p0_rect + p2_rect) / 2.\n",
        "    size = np.array([np.linalg.norm(p0_rect - p1_rect), np.linalg.norm(p0_rect - p3_rect)])\n",
        "    rrect = np.concatenate([cxy, size])\n",
        "\n",
        "    box=np.array(box)\n",
        "\n",
        "    points=np.array(box, dtype=np.int32)\n",
        "    xmin=np.min(points[:,0])\n",
        "    xmax=np.max(points[:,0])\n",
        "    ymin=np.min(points[:,1])\n",
        "    ymax=np.max(points[:,1])\n",
        "    bbox = np.array([xmin, ymin, xmax, ymax])\n",
        "    if np.any(bbox < -expand_w):\n",
        "        return None\n",
        "    \n",
        "    rrect[:2] -= bbox[:2]\n",
        "    rrect[:2] -= rrect[2:] / 2\n",
        "    rrect[2:] += rrect[:2]\n",
        "\n",
        "    bbox[2:] -= bbox[:2]\n",
        "\n",
        "    rrect[::2] = np.clip(rrect[::2], 0, bbox[2])\n",
        "    rrect[1::2] = np.clip(rrect[1::2], 0, bbox[3])\n",
        "    rrect[2:] -= rrect[:2]\n",
        "    \n",
        "    return bbox.astype(np.int32), rrect.astype(np.int32), - angle\n",
        "\n",
        "def restore_roiRotatePara(box):\n",
        "    rectange, rotate_angle = sort_rectangle(box)\n",
        "    return generate_roiRotatePara(rectange, rotate_angle)\n",
        "\n",
        "#This function is used to generate geo_map,score_map, training_mask,corp_box,out_box,angle that we use while training model\n",
        "def generate_rbox(im_size, polys, tags):\n",
        "    '''Genrate score_map and geo_map for image'''\n",
        "    h, w = im_size\n",
        "    poly_mask = np.zeros((h, w), dtype=np.uint8)\n",
        "    score_map = np.zeros((h, w), dtype=np.uint8)\n",
        "    geo_map = np.zeros((h, w, 5), dtype=np.float32)\n",
        "\n",
        "    outBoxs = []\n",
        "    cropBoxs = []\n",
        "    angles = []\n",
        "    text_tags = []\n",
        "    recg_masks = []\n",
        "    # mask used during traning, to ignore some hard areas\n",
        "    training_mask = np.ones((h, w), dtype=np.uint8)\n",
        "    for poly_idx, poly_tag in enumerate(zip(polys, tags)):\n",
        "        poly = poly_tag[0]\n",
        "        #print(poly)\n",
        "        tag = poly_tag[1]\n",
        "        #print(tag)\n",
        "        r = [None, None, None, None]\n",
        "        for i in range(4):\n",
        "            r[i] = min(np.linalg.norm(poly[i] - poly[(i + 1) % 4]),\n",
        "                       np.linalg.norm(poly[i] - poly[(i - 1) % 4]))\n",
        "        # score map\n",
        "        shrinked_poly = shrink_poly(poly.copy(), r).astype(np.int32)[np.newaxis, :, :]\n",
        "        cv2.fillPoly(score_map, shrinked_poly, 1)\n",
        "        cv2.fillPoly(poly_mask, shrinked_poly, poly_idx + 1)\n",
        "\n",
        "        # if geometry == 'RBOX':\n",
        "        # generate a parallelogram for any combination of two vertices\n",
        "        fitted_parallelograms = []\n",
        "        for i in range(4):\n",
        "            p0 = poly[i]\n",
        "            p1 = poly[(i + 1) % 4]\n",
        "            p2 = poly[(i + 2) % 4]\n",
        "            p3 = poly[(i + 3) % 4]\n",
        "            edge = fit_line([p0[0], p1[0]], [p0[1], p1[1]])\n",
        "            backward_edge = fit_line([p0[0], p3[0]], [p0[1], p3[1]])\n",
        "            forward_edge = fit_line([p1[0], p2[0]], [p1[1], p2[1]])\n",
        "            if point_dist_to_line(p0, p1, p2) > point_dist_to_line(p0, p1, p3):\n",
        "                #  parallel lines through p2\n",
        "                if edge[1] == 0:\n",
        "                    edge_opposite = [1, 0, -p2[0]]\n",
        "                else:\n",
        "                    edge_opposite = [edge[0], -1, p2[1] - edge[0] * p2[0]]\n",
        "            else:\n",
        "                # after p3\n",
        "                if edge[1] == 0:\n",
        "                    edge_opposite = [1, 0, -p3[0]]\n",
        "                else:\n",
        "                    edge_opposite = [edge[0], -1, p3[1] - edge[0] * p3[0]]\n",
        "            # move forward edge\n",
        "            new_p0 = p0\n",
        "            new_p1 = p1\n",
        "            new_p2 = p2\n",
        "            new_p3 = p3\n",
        "            new_p2 = line_cross_point(forward_edge, edge_opposite)\n",
        "            if point_dist_to_line(p1, new_p2, p0) > point_dist_to_line(p1, new_p2, p3):\n",
        "                # across p0\n",
        "                if forward_edge[1] == 0:\n",
        "                    forward_opposite = [1, 0, -p0[0]]\n",
        "                else:\n",
        "                    forward_opposite = [forward_edge[0], -1, p0[1] - forward_edge[0] * p0[0]]\n",
        "            else:\n",
        "                # across p3\n",
        "                if forward_edge[1] == 0:\n",
        "                    forward_opposite = [1, 0, -p3[0]]\n",
        "                else:\n",
        "                    forward_opposite = [forward_edge[0], -1, p3[1] - forward_edge[0] * p3[0]]\n",
        "            new_p0 = line_cross_point(forward_opposite, edge)\n",
        "            new_p3 = line_cross_point(forward_opposite, edge_opposite)\n",
        "            fitted_parallelograms.append([new_p0, new_p1, new_p2, new_p3, new_p0])\n",
        "            # or move backward edge\n",
        "            new_p0 = p0\n",
        "            new_p1 = p1\n",
        "            new_p2 = p2\n",
        "            new_p3 = p3\n",
        "            new_p3 = line_cross_point(backward_edge, edge_opposite)\n",
        "            if point_dist_to_line(p0, p3, p1) > point_dist_to_line(p0, p3, p2):\n",
        "                # across p1\n",
        "                if backward_edge[1] == 0:\n",
        "                    backward_opposite = [1, 0, -p1[0]]\n",
        "                else:\n",
        "                    backward_opposite = [backward_edge[0], -1, p1[1] - backward_edge[0] * p1[0]]\n",
        "            else:\n",
        "                # across p2\n",
        "                if backward_edge[1] == 0:\n",
        "                    backward_opposite = [1, 0, -p2[0]]\n",
        "                else:\n",
        "                    backward_opposite = [backward_edge[0], -1, p2[1] - backward_edge[0] * p2[0]]\n",
        "            new_p1 = line_cross_point(backward_opposite, edge)\n",
        "            new_p2 = line_cross_point(backward_opposite, edge_opposite)\n",
        "            fitted_parallelograms.append([new_p0, new_p1, new_p2, new_p3, new_p0])\n",
        "        areas = [Polygon(t).area for t in fitted_parallelograms]\n",
        "        parallelogram = np.array(fitted_parallelograms[np.argmin(areas)][:-1], dtype=np.float32)\n",
        "        # sort thie polygon\n",
        "        parallelogram_coord_sum = np.sum(parallelogram, axis=1)\n",
        "        min_coord_idx = np.argmin(parallelogram_coord_sum)\n",
        "        parallelogram = parallelogram[\n",
        "            [min_coord_idx, (min_coord_idx + 1) % 4, (min_coord_idx + 2) % 4, (min_coord_idx + 3) % 4]]\n",
        "\n",
        "        rectange = rectangle_from_parallelogram(parallelogram)\n",
        "        rectange, rotate_angle = sort_rectangle(rectange)\n",
        "\n",
        "        p0_rect, p1_rect, p2_rect, p3_rect = rectange\n",
        "\n",
        "        # if the poly is too small, then ignore it during training\n",
        "        poly_h = min(np.linalg.norm(p0_rect - p3_rect), np.linalg.norm(p1_rect - p2_rect))\n",
        "        poly_w = min(np.linalg.norm(p0_rect - p1_rect), np.linalg.norm(p2_rect - p3_rect))\n",
        "\n",
        "        invaild = (min(poly_h, poly_w) < 6) or tag is None or (True and poly_h > poly_w * 2)\n",
        "\n",
        "        if invaild:\n",
        "            cv2.fillPoly(training_mask, poly.astype(np.int32)[np.newaxis, :, :], 0)\n",
        "        xy_in_poly = np.argwhere(poly_mask == (poly_idx + 1))\n",
        "        \n",
        "        if not invaild:\n",
        "            roiRotatePara = generate_roiRotatePara(rectange, rotate_angle)\n",
        "            if roiRotatePara:\n",
        "                outBox, cropBox, angle = roiRotatePara\n",
        "                if min(cropBox[2:]) > 6:\n",
        "                    w , h = cropBox[2:]\n",
        "                    textImgW = np.ceil(min(w / float(h) * 32, 256) / 4 /1)\n",
        "                    #print(tag)\n",
        "                    if textImgW >= 2 * min(len(tag), 16):  # avoid CTC error\n",
        "                        outBoxs.append(outBox)\n",
        "                        cropBoxs.append(cropBox)\n",
        "                        angles.append(angle)\n",
        "                        text_tags.append(tag[:16])\n",
        "                        recg_masks.append(1.)\n",
        "\n",
        "        for y, x in xy_in_poly:\n",
        "            point = np.array([x, y], dtype=np.float32)\n",
        "            # top\n",
        "            geo_map[y, x, 0] = point_dist_to_line(p0_rect, p1_rect, point) + 3\n",
        "            # right\n",
        "            geo_map[y, x, 1] = point_dist_to_line(p1_rect, p2_rect, point) + 3\n",
        "            # down\n",
        "            geo_map[y, x, 2] = point_dist_to_line(p2_rect, p3_rect, point) + 3\n",
        "            # left\n",
        "            geo_map[y, x, 3] = point_dist_to_line(p3_rect, p0_rect, point) + 3\n",
        "            # angle\n",
        "            geo_map[y, x, 4] = rotate_angle\n",
        "    if len(outBoxs) == 0:\n",
        "        outBoxs.append([0, 0, 2 * 4, 2 * 4]) # keep extract From sharedConv feature map not zero\n",
        "        cropBoxs.append([0, 0, 2 * 4, 2 * 4])\n",
        "        angles.append(0.)\n",
        "        text_tags.append([NUM_CLASSES - 2])\n",
        "        recg_masks.append(0.)\n",
        "\n",
        "    outBoxs = np.array(outBoxs, np.int32)\n",
        "    cropBoxs = np.array(cropBoxs, np.int32)\n",
        "    angles = np.array(angles, np.float32)\n",
        "\n",
        "    return score_map, geo_map, training_mask, (outBoxs, cropBoxs, angles), text_tags, recg_masks\n",
        "    "
      ],
      "execution_count": null,
      "outputs": []
    },
    {
      "cell_type": "code",
      "metadata": {
        "id": "NzzCGAaAmdr0"
      },
      "source": [
        "#This Function is used to prepare all images FROM icdar 2015 ORIGNAL Images\n",
        "def text_image_generation(input_size=512,random_scale=np.array([0.5, 3.0]),vis=False):\n",
        "    '''Genreating text Images From synthext  dataset'''\n",
        "\n",
        "    image_list=[]\n",
        "    for root, directories, files in os.walk('synthtext'):\n",
        "        for filename in files:\n",
        "            # join the two strings in order to form the full filepath.\n",
        "            if not filename.endswith('.txt'):\n",
        "                filepath = os.path.join(root, filename)\n",
        "                image_list.append(filepath)\n",
        "    #Taking sample of 5k images and generating text boxex \n",
        "    image_list5k=random.sample(image_list,5000)\n",
        "    index = np.arange(0, len(image_list5k))\n",
        "    np.random.shuffle(index)\n",
        "    c=0\n",
        "    paths=[]\n",
        "    words=[]\n",
        "    for i in tqdm(index):\n",
        "      try:\n",
        "        im_fn = image_list5k[i]\n",
        "        im = cv2.imread(im_fn,cv2.IMREAD_UNCHANGED)\n",
        "        h, w, _ = im.shape\n",
        "        txt_fn = im_fn\n",
        "        if not os.path.exists(txt_fn):\n",
        "          print('text file {} does not exists'.format(txt_fn))\n",
        "          continue\n",
        "            \n",
        "        text_polys, text_tags = load_annotation(txt_fn)\n",
        "        text_polys, text_tags = check_and_validate_polys(text_polys, text_tags, (h, w))\n",
        "\n",
        "        \n",
        "        new_h, new_w, _ = im.shape\n",
        "        resize_h = new_h\n",
        "        resize_w = new_w\n",
        "       \n",
        "        score_map, geo_map, training_mask, rbox, text_tags, recg_mask = generate_rbox((new_h, new_w), text_polys, text_tags)\n",
        "          \n",
        "        outbox, cropbox,angle=rbox\n",
        "        for my in range(len(outbox)):\n",
        "          if(recg_mask[my]!=0):\n",
        "            out=outbox[my]\n",
        "            crop=cropbox[my]\n",
        "            if(im.shape[0]>out[3]+out[1] and im.shape[1]>out[2]+out[0] and out[2]>=0 and out[3]>=0 and out[1]>=0 and out[0]>=0):\n",
        "              ang=angle[my]\n",
        "              img1=tf.image.crop_to_bounding_box(im,out[1],out[0],out[3],out[2])\n",
        "              img2=tf.keras.preprocessing.image.random_rotation(img1,ang*180/np.pi,)\n",
        "              #img3=tf.image.crop_to_bounding_box(img2,crop[1],crop[0],crop[3],crop[2])\n",
        "              if not isinstance(img2,np.ndarray):\n",
        "                img2=img2.numpy()\n",
        "              \n",
        "              img3=cv2.resize(img2,(128,64),interpolation = cv2.INTER_AREA)\n",
        "              img3=cv2.detailEnhance(img3)\n",
        "              c+=1\n",
        "              cv2.imwrite('text_box_synth/word_'+str(c)+'.png',img3)\n",
        "              paths.append('text_box_synth/word_'+str(c)+'.png')\n",
        "              words.append(text_tags[my])\n",
        "              #print(c)         \n",
        "      except Exception as e:\n",
        "        print(image_list[i])\n",
        "        import traceback\n",
        "        traceback.print_exc()\n",
        "        continue\n",
        "    data=pd.DataFrame({\"paths\":paths,\"words\":words})\n",
        "    return data"
      ],
      "execution_count": null,
      "outputs": []
    },
    {
      "cell_type": "code",
      "metadata": {
        "id": "VZeTtCA8mdr7"
      },
      "source": [
        "# df.to_csv(\"22k_images_syntext.csv\", index = False)"
      ],
      "execution_count": null,
      "outputs": []
    },
    {
      "cell_type": "code",
      "metadata": {
        "id": "Noug-EdVmdr7"
      },
      "source": [
        "#This Function is used to prepare all images FROM icdar 2015 ORIGNAL Images\n",
        "#https://github.com/argman/EAST/blob/master/icdar.py\n",
        "\n",
        "def text_image_generation(data):\n",
        "    '''Genreating text Images From synthext  dataset'''\n",
        "\n",
        "    image_list=[]\n",
        "    paths=[]\n",
        "    words=[]\n",
        "    count = 0\n",
        "    error_count = 0\n",
        "    for i in tqdm(range(len(data))):\n",
        "        try:\n",
        "            img_path = data['images_path'][i] #image_path\n",
        "            gt = data['gt_path'][i] #ground_truth path\n",
        "            img = cv2.imread(img_path, cv2.IMREAD_UNCHANGED)\n",
        "            h, w, d = img.shape\n",
        "            \n",
        "            if not os.path.exists(gt):\n",
        "                print(\"file -> {} does not exist\".format(gt))\n",
        "                continue\n",
        "            text_polys, text_tags = load_annotation(gt) #getting coordinates and text from ground truth file\n",
        "            text_polys, text_tags = check_and_validate_polys(text_polys, text_tags, (h,w)) #validating all coordinates\n",
        "            \n",
        "            score_map, geo_map, training_mask, rbox, text_tags, recg_mask = generate_rbox((h, w), text_polys, text_tags)\n",
        "            \n",
        "            outbox, cropbox, angle = rbox\n",
        "            for j in range(len(outbox)):\n",
        "                if(recg_mask[j] != 0):\n",
        "                    out = outbox[j]\n",
        "                    crop = cropbox[j]\n",
        "                if(img.shape[0] > out[3] + out[1] and img.shape[1] > out[2] + out[0] and out[2] >= 0 and\\\n",
        "                   out[3] >= 0 and out[1] >= 0 and out[0] >= 0):\n",
        "                    \n",
        "                    ang = angle[j]\n",
        "                    img1 = tf.image.crop_to_bounding_box(img, out[1], out[0], out[3], out[2])\n",
        "                    img2 = tf.keras.preprocessing.image.random_rotation(img1, ang*180/np.pi,)\n",
        "                    if not isinstance(img2, np.ndarray):\n",
        "                        img2 = img2.numpy()\n",
        "\n",
        "                    img3 = cv2.resize(img2,(128,64),interpolation = cv2.INTER_AREA)\n",
        "                    img3 = cv2.detailEnhance(img3)\n",
        "                    count += 1\n",
        "                    cv2.imwrite('synthetic_data/cropped_images/synthetic_img_'+str(count)+'.png',img3)\n",
        "                    paths.append('synthetic_data/cropped_images/synthetic_img_'+str(count)+'.png')\n",
        "                    words.append(text_tags[j])\n",
        "                    \n",
        "        except Exception as e:\n",
        "            print(img_path)\n",
        "            error_count += 1\n",
        "            import traceback\n",
        "            traceback.print_exc()\n",
        "            continue\n",
        "    print(\"total_errors\", error_count)        \n",
        "    data_new = pd.DataFrame({\"paths\":paths,\"words\":words})\n",
        "    return data_new\n",
        "        "
      ],
      "execution_count": null,
      "outputs": []
    },
    {
      "cell_type": "code",
      "metadata": {
        "id": "eHIZe26Tmdr8"
      },
      "source": [
        "def data_sample(data, size):\n",
        "    '''this function will get sample from original dataframe'''\n",
        "    \n",
        "    images_list = data['images_path']\n",
        "    gt = data['gt_path']\n",
        "    \n",
        "    total_data_len = list(np.arange(len(data)))\n",
        "    get_sample = random.sample(total_data_len, size)\n",
        "    \n",
        "    images_list_sample = images_list[get_sample]\n",
        "    gt_sample = gt[get_sample]\n",
        "    \n",
        "    new_data = pd.DataFrame(zip(images_list_sample, gt_sample), columns = ['images_path', 'gt_path'])\n",
        "    \n",
        "    for i in range(len(new_data)):\n",
        "        im_p = new_data.iloc[i]['images_path']\n",
        "        gt_p = new_data.iloc[i]['gt_path']\n",
        "        is_ok = True\n",
        "        if im_p.split(\"/\")[-1][:-4] == gt_p.split(\"/\")[-1][:-4]:\n",
        "            continue\n",
        "        else:\n",
        "            print(\"there is problem with data, col values not aligned\")\n",
        "            is_ok = False\n",
        "            break \n",
        "    if is_ok:\n",
        "        return new_data\n",
        "    else:\n",
        "        return None"
      ],
      "execution_count": null,
      "outputs": []
    },
    {
      "cell_type": "code",
      "metadata": {
        "id": "Hfk9eYYhmdr9",
        "outputId": "37d8dbb2-1549-4535-c097-56aaf415a424"
      },
      "source": [
        "nn = data_sample(df, 10000)\n",
        "final_synthetic_text_data = text_image_generation(nn)"
      ],
      "execution_count": null,
      "outputs": [
        {
          "output_type": "stream",
          "text": [
            "  2%|█▋                                                                         | 217/10000 [08:52<10:09:56,  3.74s/it]Traceback (most recent call last):\n",
            "  File \"<ipython-input-255-e6b4a3e5c545>\", line 23, in text_image_generation\n",
            "    score_map, geo_map, training_mask, rbox, text_tags, recg_mask = generate_rbox((h, w), text_polys, text_tags)\n",
            "  File \"<ipython-input-148-1eb73bf4c7ef>\", line 483, in generate_rbox\n",
            "    text_tags.append([NUM_CLASSES - 2])\n",
            "TypeError: unsupported operand type(s) for -: 'set' and 'int'\n",
            "  2%|█▋                                                                          | 218/10000 [08:52<7:25:26,  2.73s/it]"
          ],
          "name": "stderr"
        },
        {
          "output_type": "stream",
          "text": [
            "synthetic_data/images/10/baroque_137_89.jpg\n"
          ],
          "name": "stdout"
        },
        {
          "output_type": "stream",
          "text": [
            "  3%|██                                                                         | 278/10000 [12:09<11:18:54,  4.19s/it]Traceback (most recent call last):\n",
            "  File \"<ipython-input-255-e6b4a3e5c545>\", line 23, in text_image_generation\n",
            "    score_map, geo_map, training_mask, rbox, text_tags, recg_mask = generate_rbox((h, w), text_polys, text_tags)\n",
            "  File \"<ipython-input-148-1eb73bf4c7ef>\", line 483, in generate_rbox\n",
            "    text_tags.append([NUM_CLASSES - 2])\n",
            "TypeError: unsupported operand type(s) for -: 'set' and 'int'\n",
            "  3%|██                                                                          | 279/10000 [12:09<8:01:35,  2.97s/it]"
          ],
          "name": "stderr"
        },
        {
          "output_type": "stream",
          "text": [
            "synthetic_data/images/10/baroque_147_102.jpg\n"
          ],
          "name": "stdout"
        },
        {
          "output_type": "stream",
          "text": [
            "  4%|██▋                                                                         | 356/10000 [15:50<3:27:50,  1.29s/it]Traceback (most recent call last):\n",
            "  File \"<ipython-input-255-e6b4a3e5c545>\", line 23, in text_image_generation\n",
            "    score_map, geo_map, training_mask, rbox, text_tags, recg_mask = generate_rbox((h, w), text_polys, text_tags)\n",
            "  File \"<ipython-input-148-1eb73bf4c7ef>\", line 483, in generate_rbox\n",
            "    text_tags.append([NUM_CLASSES - 2])\n",
            "TypeError: unsupported operand type(s) for -: 'set' and 'int'\n",
            "  4%|██▋                                                                         | 357/10000 [15:50<2:34:46,  1.04it/s]"
          ],
          "name": "stderr"
        },
        {
          "output_type": "stream",
          "text": [
            "synthetic_data/images/10/baroque_20_84.jpg\n"
          ],
          "name": "stdout"
        },
        {
          "output_type": "stream",
          "text": [
            " 11%|████████▎                                                                  | 1100/10000 [51:34<7:38:41,  3.09s/it]Traceback (most recent call last):\n",
            "  File \"<ipython-input-255-e6b4a3e5c545>\", line 23, in text_image_generation\n",
            "    score_map, geo_map, training_mask, rbox, text_tags, recg_mask = generate_rbox((h, w), text_polys, text_tags)\n",
            "  File \"<ipython-input-148-1eb73bf4c7ef>\", line 483, in generate_rbox\n",
            "    text_tags.append([NUM_CLASSES - 2])\n",
            "TypeError: unsupported operand type(s) for -: 'set' and 'int'\n",
            " 11%|████████▎                                                                  | 1101/10000 [51:35<5:29:21,  2.22s/it]"
          ],
          "name": "stderr"
        },
        {
          "output_type": "stream",
          "text": [
            "synthetic_data/images/4/aquarium_39_90.jpg\n"
          ],
          "name": "stdout"
        },
        {
          "output_type": "stream",
          "text": [
            " 17%|████████████▎                                                            | 1689/10000 [1:24:01<7:04:29,  3.06s/it]Traceback (most recent call last):\n",
            "  File \"<ipython-input-255-e6b4a3e5c545>\", line 23, in text_image_generation\n",
            "    score_map, geo_map, training_mask, rbox, text_tags, recg_mask = generate_rbox((h, w), text_polys, text_tags)\n",
            "  File \"<ipython-input-148-1eb73bf4c7ef>\", line 483, in generate_rbox\n",
            "    text_tags.append([NUM_CLASSES - 2])\n",
            "TypeError: unsupported operand type(s) for -: 'set' and 'int'\n",
            " 17%|████████████▎                                                            | 1690/10000 [1:24:01<5:09:14,  2.23s/it]"
          ],
          "name": "stderr"
        },
        {
          "output_type": "stream",
          "text": [
            "synthetic_data/images/10/baroque_70_0.jpg\n"
          ],
          "name": "stdout"
        },
        {
          "output_type": "stream",
          "text": [
            " 18%|████████████▊                                                            | 1756/10000 [1:27:53<7:49:34,  3.42s/it]Traceback (most recent call last):\n",
            "  File \"<ipython-input-255-e6b4a3e5c545>\", line 23, in text_image_generation\n",
            "    score_map, geo_map, training_mask, rbox, text_tags, recg_mask = generate_rbox((h, w), text_polys, text_tags)\n",
            "  File \"<ipython-input-148-1eb73bf4c7ef>\", line 483, in generate_rbox\n",
            "    text_tags.append([NUM_CLASSES - 2])\n",
            "TypeError: unsupported operand type(s) for -: 'set' and 'int'\n",
            " 18%|████████████▊                                                            | 1757/10000 [1:27:53<5:35:42,  2.44s/it]"
          ],
          "name": "stderr"
        },
        {
          "output_type": "stream",
          "text": [
            "synthetic_data/images/10/baroque_137_29.jpg\n"
          ],
          "name": "stdout"
        },
        {
          "output_type": "stream",
          "text": [
            " 21%|███████████████▎                                                         | 2092/10000 [1:48:11<4:10:01,  1.90s/it]Traceback (most recent call last):\n",
            "  File \"<ipython-input-255-e6b4a3e5c545>\", line 23, in text_image_generation\n",
            "    score_map, geo_map, training_mask, rbox, text_tags, recg_mask = generate_rbox((h, w), text_polys, text_tags)\n",
            "  File \"<ipython-input-148-1eb73bf4c7ef>\", line 483, in generate_rbox\n",
            "    text_tags.append([NUM_CLASSES - 2])\n",
            "TypeError: unsupported operand type(s) for -: 'set' and 'int'\n",
            " 21%|███████████████▎                                                         | 2094/10000 [1:48:14<3:28:15,  1.58s/it]"
          ],
          "name": "stderr"
        },
        {
          "output_type": "stream",
          "text": [
            "synthetic_data/images/7/asphalt_50_64.jpg\n"
          ],
          "name": "stdout"
        },
        {
          "output_type": "stream",
          "text": [
            " 23%|████████████████▌                                                        | 2277/10000 [1:58:14<5:00:10,  2.33s/it]Traceback (most recent call last):\n",
            "  File \"<ipython-input-255-e6b4a3e5c545>\", line 23, in text_image_generation\n",
            "    score_map, geo_map, training_mask, rbox, text_tags, recg_mask = generate_rbox((h, w), text_polys, text_tags)\n",
            "  File \"<ipython-input-148-1eb73bf4c7ef>\", line 483, in generate_rbox\n",
            "    text_tags.append([NUM_CLASSES - 2])\n",
            "TypeError: unsupported operand type(s) for -: 'set' and 'int'\n",
            " 23%|████████████████▋                                                        | 2278/10000 [1:58:15<4:20:33,  2.02s/it]"
          ],
          "name": "stderr"
        },
        {
          "output_type": "stream",
          "text": [
            "synthetic_data/images/1/ant+hill_12_2.jpg\n"
          ],
          "name": "stdout"
        },
        {
          "output_type": "stream",
          "text": [
            " 27%|███████████████████▌                                                     | 2673/10000 [2:21:28<8:01:57,  3.95s/it]Traceback (most recent call last):\n",
            "  File \"<ipython-input-255-e6b4a3e5c545>\", line 23, in text_image_generation\n",
            "    score_map, geo_map, training_mask, rbox, text_tags, recg_mask = generate_rbox((h, w), text_polys, text_tags)\n",
            "  File \"<ipython-input-148-1eb73bf4c7ef>\", line 483, in generate_rbox\n",
            "    text_tags.append([NUM_CLASSES - 2])\n",
            "TypeError: unsupported operand type(s) for -: 'set' and 'int'\n",
            " 27%|███████████████████▌                                                     | 2674/10000 [2:21:29<5:57:54,  2.93s/it]"
          ],
          "name": "stderr"
        },
        {
          "output_type": "stream",
          "text": [
            "synthetic_data/images/10/baroque_27_105.jpg\n"
          ],
          "name": "stdout"
        },
        {
          "output_type": "stream",
          "text": [
            " 29%|█████████████████████                                                   | 2918/10000 [2:35:58<10:31:50,  5.35s/it]Traceback (most recent call last):\n",
            "  File \"<ipython-input-255-e6b4a3e5c545>\", line 23, in text_image_generation\n",
            "    score_map, geo_map, training_mask, rbox, text_tags, recg_mask = generate_rbox((h, w), text_polys, text_tags)\n",
            "  File \"<ipython-input-148-1eb73bf4c7ef>\", line 483, in generate_rbox\n",
            "    text_tags.append([NUM_CLASSES - 2])\n",
            "TypeError: unsupported operand type(s) for -: 'set' and 'int'\n",
            " 29%|█████████████████████▎                                                   | 2919/10000 [2:35:58<7:30:55,  3.82s/it]"
          ],
          "name": "stderr"
        },
        {
          "output_type": "stream",
          "text": [
            "synthetic_data/images/10/baroque_137_6.jpg\n"
          ],
          "name": "stdout"
        },
        {
          "output_type": "stream",
          "text": [
            " 30%|█████████████████████▌                                                   | 2960/10000 [2:38:27<8:00:15,  4.09s/it]Traceback (most recent call last):\n",
            "  File \"<ipython-input-255-e6b4a3e5c545>\", line 23, in text_image_generation\n",
            "    score_map, geo_map, training_mask, rbox, text_tags, recg_mask = generate_rbox((h, w), text_polys, text_tags)\n",
            "  File \"<ipython-input-148-1eb73bf4c7ef>\", line 483, in generate_rbox\n",
            "    text_tags.append([NUM_CLASSES - 2])\n",
            "TypeError: unsupported operand type(s) for -: 'set' and 'int'\n",
            " 30%|█████████████████████▌                                                   | 2961/10000 [2:38:28<5:45:10,  2.94s/it]"
          ],
          "name": "stderr"
        },
        {
          "output_type": "stream",
          "text": [
            "synthetic_data/images/8/ballet_115_92.jpg\n"
          ],
          "name": "stdout"
        },
        {
          "output_type": "stream",
          "text": [
            " 31%|██████████████████████▌                                                  | 3096/10000 [2:47:02<7:43:27,  4.03s/it]Traceback (most recent call last):\n",
            "  File \"<ipython-input-255-e6b4a3e5c545>\", line 23, in text_image_generation\n",
            "    score_map, geo_map, training_mask, rbox, text_tags, recg_mask = generate_rbox((h, w), text_polys, text_tags)\n",
            "  File \"<ipython-input-148-1eb73bf4c7ef>\", line 483, in generate_rbox\n",
            "    text_tags.append([NUM_CLASSES - 2])\n",
            "TypeError: unsupported operand type(s) for -: 'set' and 'int'\n",
            " 31%|██████████████████████▌                                                  | 3097/10000 [2:47:02<5:39:43,  2.95s/it]"
          ],
          "name": "stderr"
        },
        {
          "output_type": "stream",
          "text": [
            "synthetic_data/images/10/baroque_137_88.jpg\n"
          ],
          "name": "stdout"
        },
        {
          "output_type": "stream",
          "text": [
            " 31%|██████████████████████▍                                                 | 3117/10000 [2:48:31<11:27:28,  5.99s/it]Traceback (most recent call last):\n",
            "  File \"<ipython-input-255-e6b4a3e5c545>\", line 23, in text_image_generation\n",
            "    score_map, geo_map, training_mask, rbox, text_tags, recg_mask = generate_rbox((h, w), text_polys, text_tags)\n",
            "  File \"<ipython-input-148-1eb73bf4c7ef>\", line 483, in generate_rbox\n",
            "    text_tags.append([NUM_CLASSES - 2])\n",
            "TypeError: unsupported operand type(s) for -: 'set' and 'int'\n",
            " 31%|██████████████████████▊                                                  | 3118/10000 [2:48:31<8:13:52,  4.31s/it]"
          ],
          "name": "stderr"
        },
        {
          "output_type": "stream",
          "text": [
            "synthetic_data/images/1/ant+hill_113_90.jpg\n"
          ],
          "name": "stdout"
        },
        {
          "output_type": "stream",
          "text": [
            " 32%|██████████████████████▋                                                 | 3152/10000 [2:50:51<10:24:04,  5.47s/it]Traceback (most recent call last):\n",
            "  File \"<ipython-input-255-e6b4a3e5c545>\", line 23, in text_image_generation\n",
            "    score_map, geo_map, training_mask, rbox, text_tags, recg_mask = generate_rbox((h, w), text_polys, text_tags)\n",
            "  File \"<ipython-input-148-1eb73bf4c7ef>\", line 483, in generate_rbox\n",
            "    text_tags.append([NUM_CLASSES - 2])\n",
            "TypeError: unsupported operand type(s) for -: 'set' and 'int'\n",
            " 32%|███████████████████████                                                  | 3153/10000 [2:50:51<7:32:08,  3.96s/it]"
          ],
          "name": "stderr"
        },
        {
          "output_type": "stream",
          "text": [
            "synthetic_data/images/10/baroque_137_42.jpg\n"
          ],
          "name": "stdout"
        },
        {
          "output_type": "stream",
          "text": [
            " 38%|███████████████████████████▍                                             | 3762/10000 [3:22:15<6:48:54,  3.93s/it]Traceback (most recent call last):\n",
            "  File \"<ipython-input-255-e6b4a3e5c545>\", line 23, in text_image_generation\n",
            "    score_map, geo_map, training_mask, rbox, text_tags, recg_mask = generate_rbox((h, w), text_polys, text_tags)\n",
            "  File \"<ipython-input-148-1eb73bf4c7ef>\", line 483, in generate_rbox\n",
            "    text_tags.append([NUM_CLASSES - 2])\n",
            "TypeError: unsupported operand type(s) for -: 'set' and 'int'\n",
            " 38%|███████████████████████████▍                                             | 3763/10000 [3:22:15<4:50:44,  2.80s/it]"
          ],
          "name": "stderr"
        },
        {
          "output_type": "stream",
          "text": [
            "synthetic_data/images/4/aquarium_146_6.jpg\n"
          ],
          "name": "stdout"
        },
        {
          "output_type": "stream",
          "text": [
            " 40%|█████████████████████████████▎                                           | 4023/10000 [3:35:23<4:02:38,  2.44s/it]Traceback (most recent call last):\n",
            "  File \"<ipython-input-255-e6b4a3e5c545>\", line 23, in text_image_generation\n",
            "    score_map, geo_map, training_mask, rbox, text_tags, recg_mask = generate_rbox((h, w), text_polys, text_tags)\n",
            "  File \"<ipython-input-148-1eb73bf4c7ef>\", line 483, in generate_rbox\n",
            "    text_tags.append([NUM_CLASSES - 2])\n",
            "TypeError: unsupported operand type(s) for -: 'set' and 'int'\n",
            " 40%|█████████████████████████████▍                                           | 4024/10000 [3:35:24<3:07:15,  1.88s/it]"
          ],
          "name": "stderr"
        },
        {
          "output_type": "stream",
          "text": [
            "synthetic_data/images/10/baroque_56_27.jpg\n"
          ],
          "name": "stdout"
        },
        {
          "output_type": "stream",
          "text": [
            " 42%|██████████████████████████████▊                                          | 4214/10000 [3:43:40<3:06:22,  1.93s/it]Traceback (most recent call last):\n",
            "  File \"<ipython-input-255-e6b4a3e5c545>\", line 23, in text_image_generation\n",
            "    score_map, geo_map, training_mask, rbox, text_tags, recg_mask = generate_rbox((h, w), text_polys, text_tags)\n",
            "  File \"<ipython-input-148-1eb73bf4c7ef>\", line 483, in generate_rbox\n",
            "    text_tags.append([NUM_CLASSES - 2])\n",
            "TypeError: unsupported operand type(s) for -: 'set' and 'int'\n",
            " 42%|██████████████████████████████▊                                          | 4215/10000 [3:43:41<2:25:11,  1.51s/it]"
          ],
          "name": "stderr"
        },
        {
          "output_type": "stream",
          "text": [
            "synthetic_data/images/4/aquarium_40_33.jpg\n"
          ],
          "name": "stdout"
        },
        {
          "output_type": "stream",
          "text": [
            " 44%|███████████████████████████████▉                                         | 4369/10000 [3:51:09<5:04:23,  3.24s/it]Traceback (most recent call last):\n",
            "  File \"<ipython-input-255-e6b4a3e5c545>\", line 23, in text_image_generation\n",
            "    score_map, geo_map, training_mask, rbox, text_tags, recg_mask = generate_rbox((h, w), text_polys, text_tags)\n",
            "  File \"<ipython-input-148-1eb73bf4c7ef>\", line 483, in generate_rbox\n",
            "    text_tags.append([NUM_CLASSES - 2])\n",
            "TypeError: unsupported operand type(s) for -: 'set' and 'int'\n",
            " 44%|███████████████████████████████▉                                         | 4370/10000 [3:51:09<3:40:30,  2.35s/it]"
          ],
          "name": "stderr"
        },
        {
          "output_type": "stream",
          "text": [
            "synthetic_data/images/4/aquarium_55_70.jpg\n"
          ],
          "name": "stdout"
        },
        {
          "output_type": "stream",
          "text": [
            " 44%|████████████████████████████████                                         | 4394/10000 [3:52:17<6:27:27,  4.15s/it]Traceback (most recent call last):\n",
            "  File \"<ipython-input-255-e6b4a3e5c545>\", line 23, in text_image_generation\n",
            "    score_map, geo_map, training_mask, rbox, text_tags, recg_mask = generate_rbox((h, w), text_polys, text_tags)\n",
            "  File \"<ipython-input-148-1eb73bf4c7ef>\", line 483, in generate_rbox\n",
            "    text_tags.append([NUM_CLASSES - 2])\n",
            "TypeError: unsupported operand type(s) for -: 'set' and 'int'\n",
            " 44%|████████████████████████████████                                         | 4395/10000 [3:52:18<4:37:14,  2.97s/it]"
          ],
          "name": "stderr"
        },
        {
          "output_type": "stream",
          "text": [
            "synthetic_data/images/10/baroque_34_19.jpg\n"
          ],
          "name": "stdout"
        },
        {
          "output_type": "stream",
          "text": [
            " 46%|█████████████████████████████████▊                                       | 4633/10000 [4:03:46<3:57:36,  2.66s/it]Traceback (most recent call last):\n",
            "  File \"<ipython-input-255-e6b4a3e5c545>\", line 23, in text_image_generation\n",
            "    score_map, geo_map, training_mask, rbox, text_tags, recg_mask = generate_rbox((h, w), text_polys, text_tags)\n",
            "  File \"<ipython-input-148-1eb73bf4c7ef>\", line 483, in generate_rbox\n",
            "    text_tags.append([NUM_CLASSES - 2])\n",
            "TypeError: unsupported operand type(s) for -: 'set' and 'int'\n",
            " 46%|█████████████████████████████████▊                                       | 4634/10000 [4:03:47<2:54:55,  1.96s/it]"
          ],
          "name": "stderr"
        },
        {
          "output_type": "stream",
          "text": [
            "synthetic_data/images/4/aquarium_55_42.jpg\n"
          ],
          "name": "stdout"
        },
        {
          "output_type": "stream",
          "text": [
            " 47%|██████████████████████████████████▌                                      | 4735/10000 [4:08:38<5:09:37,  3.53s/it]Traceback (most recent call last):\n",
            "  File \"<ipython-input-255-e6b4a3e5c545>\", line 23, in text_image_generation\n",
            "    score_map, geo_map, training_mask, rbox, text_tags, recg_mask = generate_rbox((h, w), text_polys, text_tags)\n",
            "  File \"<ipython-input-148-1eb73bf4c7ef>\", line 483, in generate_rbox\n",
            "    text_tags.append([NUM_CLASSES - 2])\n",
            "TypeError: unsupported operand type(s) for -: 'set' and 'int'\n",
            " 47%|██████████████████████████████████▌                                      | 4736/10000 [4:08:38<3:43:21,  2.55s/it]"
          ],
          "name": "stderr"
        },
        {
          "output_type": "stream",
          "text": [
            "synthetic_data/images/10/baroque_66_65.jpg\n"
          ],
          "name": "stdout"
        },
        {
          "output_type": "stream",
          "text": [
            " 48%|██████████████████████████████████▉                                      | 4790/10000 [4:11:25<6:28:50,  4.48s/it]Traceback (most recent call last):\n",
            "  File \"<ipython-input-255-e6b4a3e5c545>\", line 23, in text_image_generation\n",
            "    score_map, geo_map, training_mask, rbox, text_tags, recg_mask = generate_rbox((h, w), text_polys, text_tags)\n",
            "  File \"<ipython-input-148-1eb73bf4c7ef>\", line 483, in generate_rbox\n",
            "    text_tags.append([NUM_CLASSES - 2])\n",
            "TypeError: unsupported operand type(s) for -: 'set' and 'int'\n",
            " 48%|██████████████████████████████████▉                                      | 4791/10000 [4:11:25<4:39:23,  3.22s/it]"
          ],
          "name": "stderr"
        },
        {
          "output_type": "stream",
          "text": [
            "synthetic_data/images/4/aquarium_40_19.jpg\n"
          ],
          "name": "stdout"
        },
        {
          "output_type": "stream",
          "text": [
            " 48%|███████████████████████████████████▎                                     | 4835/10000 [4:13:39<4:44:13,  3.30s/it]Traceback (most recent call last):\n",
            "  File \"<ipython-input-255-e6b4a3e5c545>\", line 23, in text_image_generation\n",
            "    score_map, geo_map, training_mask, rbox, text_tags, recg_mask = generate_rbox((h, w), text_polys, text_tags)\n",
            "  File \"<ipython-input-148-1eb73bf4c7ef>\", line 483, in generate_rbox\n",
            "    text_tags.append([NUM_CLASSES - 2])\n",
            "TypeError: unsupported operand type(s) for -: 'set' and 'int'\n",
            " 48%|███████████████████████████████████▎                                     | 4836/10000 [4:13:39<3:26:03,  2.39s/it]"
          ],
          "name": "stderr"
        },
        {
          "output_type": "stream",
          "text": [
            "synthetic_data/images/4/aquarium_40_49.jpg\n"
          ],
          "name": "stdout"
        },
        {
          "output_type": "stream",
          "text": [
            " 50%|████████████████████████████████████▌                                    | 5016/10000 [4:22:16<2:25:18,  1.75s/it]Traceback (most recent call last):\n",
            "  File \"<ipython-input-255-e6b4a3e5c545>\", line 23, in text_image_generation\n",
            "    score_map, geo_map, training_mask, rbox, text_tags, recg_mask = generate_rbox((h, w), text_polys, text_tags)\n",
            "  File \"<ipython-input-148-1eb73bf4c7ef>\", line 483, in generate_rbox\n",
            "    text_tags.append([NUM_CLASSES - 2])\n",
            "TypeError: unsupported operand type(s) for -: 'set' and 'int'\n",
            " 50%|████████████████████████████████████▌                                    | 5017/10000 [4:22:16<1:49:47,  1.32s/it]"
          ],
          "name": "stderr"
        },
        {
          "output_type": "stream",
          "text": [
            "synthetic_data/images/10/baroque_52_67.jpg\n"
          ],
          "name": "stdout"
        },
        {
          "output_type": "stream",
          "text": [
            " 52%|█████████████████████████████████████▉                                   | 5191/10000 [4:30:45<3:07:27,  2.34s/it]Traceback (most recent call last):\n",
            "  File \"<ipython-input-255-e6b4a3e5c545>\", line 23, in text_image_generation\n",
            "    score_map, geo_map, training_mask, rbox, text_tags, recg_mask = generate_rbox((h, w), text_polys, text_tags)\n",
            "  File \"<ipython-input-148-1eb73bf4c7ef>\", line 483, in generate_rbox\n",
            "    text_tags.append([NUM_CLASSES - 2])\n",
            "TypeError: unsupported operand type(s) for -: 'set' and 'int'\n",
            " 52%|█████████████████████████████████████▉                                   | 5192/10000 [4:30:45<2:20:32,  1.75s/it]"
          ],
          "name": "stderr"
        },
        {
          "output_type": "stream",
          "text": [
            "synthetic_data/images/10/baroque_20_72.jpg\n"
          ],
          "name": "stdout"
        },
        {
          "output_type": "stream",
          "text": [
            " 58%|██████████████████████████████████████████                               | 5770/10000 [5:00:55<4:46:01,  4.06s/it]Traceback (most recent call last):\n",
            "  File \"<ipython-input-255-e6b4a3e5c545>\", line 23, in text_image_generation\n",
            "    score_map, geo_map, training_mask, rbox, text_tags, recg_mask = generate_rbox((h, w), text_polys, text_tags)\n",
            "  File \"<ipython-input-148-1eb73bf4c7ef>\", line 483, in generate_rbox\n",
            "    text_tags.append([NUM_CLASSES - 2])\n",
            "TypeError: unsupported operand type(s) for -: 'set' and 'int'\n",
            " 58%|██████████████████████████████████████████▏                              | 5771/10000 [5:00:55<3:23:30,  2.89s/it]"
          ],
          "name": "stderr"
        },
        {
          "output_type": "stream",
          "text": [
            "synthetic_data/images/10/baroque_60_62.jpg\n"
          ],
          "name": "stdout"
        },
        {
          "output_type": "stream",
          "text": [
            " 58%|██████████████████████████████████████████▍                              | 5805/10000 [5:03:50<5:09:49,  4.43s/it]Traceback (most recent call last):\n",
            "  File \"<ipython-input-255-e6b4a3e5c545>\", line 23, in text_image_generation\n",
            "    score_map, geo_map, training_mask, rbox, text_tags, recg_mask = generate_rbox((h, w), text_polys, text_tags)\n",
            "  File \"<ipython-input-148-1eb73bf4c7ef>\", line 483, in generate_rbox\n",
            "    text_tags.append([NUM_CLASSES - 2])\n",
            "TypeError: unsupported operand type(s) for -: 'set' and 'int'\n",
            " 58%|██████████████████████████████████████████▍                              | 5806/10000 [5:03:52<4:16:06,  3.66s/it]"
          ],
          "name": "stderr"
        },
        {
          "output_type": "stream",
          "text": [
            "synthetic_data/images/1/ant+hill_110_82.jpg\n"
          ],
          "name": "stdout"
        },
        {
          "output_type": "stream",
          "text": [
            " 58%|██████████████████████████████████████████▍                              | 5811/10000 [5:04:12<4:03:23,  3.49s/it]Traceback (most recent call last):\n",
            "  File \"<ipython-input-255-e6b4a3e5c545>\", line 23, in text_image_generation\n",
            "    score_map, geo_map, training_mask, rbox, text_tags, recg_mask = generate_rbox((h, w), text_polys, text_tags)\n",
            "  File \"<ipython-input-148-1eb73bf4c7ef>\", line 483, in generate_rbox\n",
            "    text_tags.append([NUM_CLASSES - 2])\n",
            "TypeError: unsupported operand type(s) for -: 'set' and 'int'\n",
            " 58%|██████████████████████████████████████████▍                              | 5812/10000 [5:04:14<3:32:49,  3.05s/it]"
          ],
          "name": "stderr"
        },
        {
          "output_type": "stream",
          "text": [
            "synthetic_data/images/1/ant+hill_129_32.jpg\n"
          ],
          "name": "stdout"
        },
        {
          "output_type": "stream",
          "text": [
            " 64%|██████████████████████████████████████████████▊                          | 6417/10000 [5:57:28<3:35:17,  3.61s/it]Traceback (most recent call last):\n",
            "  File \"<ipython-input-255-e6b4a3e5c545>\", line 23, in text_image_generation\n",
            "    score_map, geo_map, training_mask, rbox, text_tags, recg_mask = generate_rbox((h, w), text_polys, text_tags)\n",
            "  File \"<ipython-input-148-1eb73bf4c7ef>\", line 483, in generate_rbox\n",
            "    text_tags.append([NUM_CLASSES - 2])\n",
            "TypeError: unsupported operand type(s) for -: 'set' and 'int'\n",
            " 64%|██████████████████████████████████████████████▊                          | 6418/10000 [5:57:29<2:42:53,  2.73s/it]"
          ],
          "name": "stderr"
        },
        {
          "output_type": "stream",
          "text": [
            "synthetic_data/images/4/aquarium_40_47.jpg\n"
          ],
          "name": "stdout"
        },
        {
          "output_type": "stream",
          "text": [
            " 67%|████████████████████████████████████████████████▊                        | 6690/10000 [6:20:19<3:02:17,  3.30s/it]Traceback (most recent call last):\n",
            "  File \"<ipython-input-255-e6b4a3e5c545>\", line 23, in text_image_generation\n",
            "    score_map, geo_map, training_mask, rbox, text_tags, recg_mask = generate_rbox((h, w), text_polys, text_tags)\n",
            "  File \"<ipython-input-148-1eb73bf4c7ef>\", line 483, in generate_rbox\n",
            "    text_tags.append([NUM_CLASSES - 2])\n",
            "TypeError: unsupported operand type(s) for -: 'set' and 'int'\n",
            " 67%|████████████████████████████████████████████████▊                        | 6691/10000 [6:20:19<2:10:27,  2.37s/it]"
          ],
          "name": "stderr"
        },
        {
          "output_type": "stream",
          "text": [
            "synthetic_data/images/10/baroque_27_77.jpg\n"
          ],
          "name": "stdout"
        },
        {
          "output_type": "stream",
          "text": [
            " 70%|██████████████████████████████████████████████████▊                      | 6962/10000 [6:42:36<3:45:29,  4.45s/it]Traceback (most recent call last):\n",
            "  File \"<ipython-input-255-e6b4a3e5c545>\", line 23, in text_image_generation\n",
            "    score_map, geo_map, training_mask, rbox, text_tags, recg_mask = generate_rbox((h, w), text_polys, text_tags)\n",
            "  File \"<ipython-input-148-1eb73bf4c7ef>\", line 483, in generate_rbox\n",
            "    text_tags.append([NUM_CLASSES - 2])\n",
            "TypeError: unsupported operand type(s) for -: 'set' and 'int'\n",
            " 70%|██████████████████████████████████████████████████▊                      | 6963/10000 [6:42:36<2:45:21,  3.27s/it]"
          ],
          "name": "stderr"
        },
        {
          "output_type": "stream",
          "text": [
            "synthetic_data/images/4/aquarium_39_37.jpg\n"
          ],
          "name": "stdout"
        },
        {
          "output_type": "stream",
          "text": [
            " 75%|██████████████████████████████████████████████████████▉                  | 7521/10000 [7:33:49<3:04:43,  4.47s/it]Traceback (most recent call last):\n",
            "  File \"<ipython-input-255-e6b4a3e5c545>\", line 23, in text_image_generation\n",
            "    score_map, geo_map, training_mask, rbox, text_tags, recg_mask = generate_rbox((h, w), text_polys, text_tags)\n",
            "  File \"<ipython-input-148-1eb73bf4c7ef>\", line 483, in generate_rbox\n",
            "    text_tags.append([NUM_CLASSES - 2])\n",
            "TypeError: unsupported operand type(s) for -: 'set' and 'int'\n",
            " 75%|██████████████████████████████████████████████████████▉                  | 7522/10000 [7:33:49<2:12:25,  3.21s/it]"
          ],
          "name": "stderr"
        },
        {
          "output_type": "stream",
          "text": [
            "synthetic_data/images/4/aquarium_40_23.jpg\n"
          ],
          "name": "stdout"
        },
        {
          "output_type": "stream",
          "text": [
            " 77%|███████████████████████████████████████████████████████▉                 | 7667/10000 [7:48:47<3:38:44,  5.63s/it]Traceback (most recent call last):\n",
            "  File \"<ipython-input-255-e6b4a3e5c545>\", line 23, in text_image_generation\n",
            "    score_map, geo_map, training_mask, rbox, text_tags, recg_mask = generate_rbox((h, w), text_polys, text_tags)\n",
            "  File \"<ipython-input-148-1eb73bf4c7ef>\", line 483, in generate_rbox\n",
            "    text_tags.append([NUM_CLASSES - 2])\n",
            "TypeError: unsupported operand type(s) for -: 'set' and 'int'\n",
            " 77%|███████████████████████████████████████████████████████▉                 | 7668/10000 [7:48:50<3:10:03,  4.89s/it]"
          ],
          "name": "stderr"
        },
        {
          "output_type": "stream",
          "text": [
            "synthetic_data/images/1/ant+hill_110_26.jpg\n"
          ],
          "name": "stdout"
        },
        {
          "output_type": "stream",
          "text": [
            " 77%|████████████████████████████████████████████████████████▎                | 7707/10000 [7:52:28<4:50:37,  7.60s/it]Traceback (most recent call last):\n",
            "  File \"<ipython-input-255-e6b4a3e5c545>\", line 23, in text_image_generation\n",
            "    score_map, geo_map, training_mask, rbox, text_tags, recg_mask = generate_rbox((h, w), text_polys, text_tags)\n",
            "  File \"<ipython-input-148-1eb73bf4c7ef>\", line 483, in generate_rbox\n",
            "    text_tags.append([NUM_CLASSES - 2])\n",
            "TypeError: unsupported operand type(s) for -: 'set' and 'int'\n",
            " 77%|████████████████████████████████████████████████████████▎                | 7708/10000 [7:52:28<3:27:34,  5.43s/it]"
          ],
          "name": "stderr"
        },
        {
          "output_type": "stream",
          "text": [
            "synthetic_data/images/8/ballet_41_105.jpg\n"
          ],
          "name": "stdout"
        },
        {
          "output_type": "stream",
          "text": [
            " 78%|████████████████████████████████████████████████████████▌                | 7753/10000 [7:56:44<2:20:26,  3.75s/it]Traceback (most recent call last):\n",
            "  File \"<ipython-input-255-e6b4a3e5c545>\", line 23, in text_image_generation\n",
            "    score_map, geo_map, training_mask, rbox, text_tags, recg_mask = generate_rbox((h, w), text_polys, text_tags)\n",
            "  File \"<ipython-input-148-1eb73bf4c7ef>\", line 483, in generate_rbox\n",
            "    text_tags.append([NUM_CLASSES - 2])\n",
            "TypeError: unsupported operand type(s) for -: 'set' and 'int'\n",
            " 78%|████████████████████████████████████████████████████████▌                | 7754/10000 [7:56:44<1:43:02,  2.75s/it]"
          ],
          "name": "stderr"
        },
        {
          "output_type": "stream",
          "text": [
            "synthetic_data/images/10/baroque_137_17.jpg\n"
          ],
          "name": "stdout"
        },
        {
          "output_type": "stream",
          "text": [
            " 80%|██████████████████████████████████████████████████████████               | 7951/10000 [8:15:28<4:36:23,  8.09s/it]Traceback (most recent call last):\n",
            "  File \"<ipython-input-255-e6b4a3e5c545>\", line 23, in text_image_generation\n",
            "    score_map, geo_map, training_mask, rbox, text_tags, recg_mask = generate_rbox((h, w), text_polys, text_tags)\n",
            "  File \"<ipython-input-148-1eb73bf4c7ef>\", line 483, in generate_rbox\n",
            "    text_tags.append([NUM_CLASSES - 2])\n",
            "TypeError: unsupported operand type(s) for -: 'set' and 'int'\n",
            " 80%|██████████████████████████████████████████████████████████               | 7952/10000 [8:15:30<3:32:36,  6.23s/it]"
          ],
          "name": "stderr"
        },
        {
          "output_type": "stream",
          "text": [
            "synthetic_data/images/10/baroque_40_49.jpg\n"
          ],
          "name": "stdout"
        },
        {
          "output_type": "stream",
          "text": [
            " 83%|████████████████████████████████████████████████████████████▊            | 8323/10000 [8:52:15<3:04:50,  6.61s/it]Traceback (most recent call last):\n",
            "  File \"<ipython-input-255-e6b4a3e5c545>\", line 23, in text_image_generation\n",
            "    score_map, geo_map, training_mask, rbox, text_tags, recg_mask = generate_rbox((h, w), text_polys, text_tags)\n",
            "  File \"<ipython-input-148-1eb73bf4c7ef>\", line 483, in generate_rbox\n",
            "    text_tags.append([NUM_CLASSES - 2])\n",
            "TypeError: unsupported operand type(s) for -: 'set' and 'int'\n",
            " 83%|████████████████████████████████████████████████████████████▊            | 8324/10000 [8:52:15<2:13:06,  4.77s/it]"
          ],
          "name": "stderr"
        },
        {
          "output_type": "stream",
          "text": [
            "synthetic_data/images/1/ant+hill_3_60.jpg\n"
          ],
          "name": "stdout"
        },
        {
          "output_type": "stream",
          "text": [
            " 84%|█████████████████████████████████████████████████████████████▎           | 8405/10000 [9:00:37<2:30:51,  5.67s/it]Traceback (most recent call last):\n",
            "  File \"<ipython-input-255-e6b4a3e5c545>\", line 23, in text_image_generation\n",
            "    score_map, geo_map, training_mask, rbox, text_tags, recg_mask = generate_rbox((h, w), text_polys, text_tags)\n",
            "  File \"<ipython-input-148-1eb73bf4c7ef>\", line 483, in generate_rbox\n",
            "    text_tags.append([NUM_CLASSES - 2])\n",
            "TypeError: unsupported operand type(s) for -: 'set' and 'int'\n",
            " 84%|█████████████████████████████████████████████████████████████▎           | 8406/10000 [9:00:38<1:49:40,  4.13s/it]"
          ],
          "name": "stderr"
        },
        {
          "output_type": "stream",
          "text": [
            "synthetic_data/images/4/aquarium_56_7.jpg\n"
          ],
          "name": "stdout"
        },
        {
          "output_type": "stream",
          "text": [
            " 86%|███████████████████████████████████████████████████████████████          | 8632/10000 [9:21:54<1:16:20,  3.35s/it]Traceback (most recent call last):\n",
            "  File \"<ipython-input-255-e6b4a3e5c545>\", line 23, in text_image_generation\n",
            "    score_map, geo_map, training_mask, rbox, text_tags, recg_mask = generate_rbox((h, w), text_polys, text_tags)\n",
            "  File \"<ipython-input-148-1eb73bf4c7ef>\", line 483, in generate_rbox\n",
            "    text_tags.append([NUM_CLASSES - 2])\n",
            "TypeError: unsupported operand type(s) for -: 'set' and 'int'\n",
            " 86%|████████████████████████████████████████████████████████████████▋          | 8633/10000 [9:21:55<55:06,  2.42s/it]"
          ],
          "name": "stderr"
        },
        {
          "output_type": "stream",
          "text": [
            "synthetic_data/images/10/baroque_60_89.jpg\n"
          ],
          "name": "stdout"
        },
        {
          "output_type": "stream",
          "text": [
            " 89%|█████████████████████████████████████████████████████████████████▎       | 8944/10000 [9:55:18<2:15:25,  7.69s/it]Traceback (most recent call last):\n",
            "  File \"<ipython-input-255-e6b4a3e5c545>\", line 23, in text_image_generation\n",
            "    score_map, geo_map, training_mask, rbox, text_tags, recg_mask = generate_rbox((h, w), text_polys, text_tags)\n",
            "  File \"<ipython-input-148-1eb73bf4c7ef>\", line 483, in generate_rbox\n",
            "    text_tags.append([NUM_CLASSES - 2])\n",
            "TypeError: unsupported operand type(s) for -: 'set' and 'int'\n",
            " 89%|█████████████████████████████████████████████████████████████████▎       | 8945/10000 [9:55:19<1:38:50,  5.62s/it]"
          ],
          "name": "stderr"
        },
        {
          "output_type": "stream",
          "text": [
            "synthetic_data/images/1/ant+hill_12_47.jpg\n"
          ],
          "name": "stdout"
        },
        {
          "output_type": "stream",
          "text": [
            " 97%|███████████████████████████████████████████████████████████████████████▌  | 9668/10000 [11:07:18<54:35,  9.87s/it]"
          ],
          "name": "stderr"
        },
        {
          "output_type": "stream",
          "text": [
            "-0.22671446 [591.8989  361.88324] [492.7 339. ]\n"
          ],
          "name": "stdout"
        },
        {
          "output_type": "stream",
          "text": [
            "100%|█████████████████████████████████████████████████████████████████████████| 10000/10000 [11:41:13<00:00,  4.21s/it]\n"
          ],
          "name": "stderr"
        },
        {
          "output_type": "stream",
          "text": [
            "total_errors 40\n"
          ],
          "name": "stdout"
        }
      ]
    },
    {
      "cell_type": "code",
      "metadata": {
        "id": "Mmv5yaRzmdsA",
        "outputId": "19d63e67-723b-4039-f93b-59279a9a95ba"
      },
      "source": [
        "final_synthetic_text_data.head()"
      ],
      "execution_count": null,
      "outputs": [
        {
          "output_type": "execute_result",
          "data": {
            "text/html": [
              "<div>\n",
              "<style scoped>\n",
              "    .dataframe tbody tr th:only-of-type {\n",
              "        vertical-align: middle;\n",
              "    }\n",
              "\n",
              "    .dataframe tbody tr th {\n",
              "        vertical-align: top;\n",
              "    }\n",
              "\n",
              "    .dataframe thead th {\n",
              "        text-align: right;\n",
              "    }\n",
              "</style>\n",
              "<table border=\"1\" class=\"dataframe\">\n",
              "  <thead>\n",
              "    <tr style=\"text-align: right;\">\n",
              "      <th></th>\n",
              "      <th>paths</th>\n",
              "      <th>words</th>\n",
              "    </tr>\n",
              "  </thead>\n",
              "  <tbody>\n",
              "    <tr>\n",
              "      <th>0</th>\n",
              "      <td>synthetic_data/cropped_images/synthetic_img_1.png</td>\n",
              "      <td>which</td>\n",
              "    </tr>\n",
              "    <tr>\n",
              "      <th>1</th>\n",
              "      <td>synthetic_data/cropped_images/synthetic_img_2.png</td>\n",
              "      <td>and</td>\n",
              "    </tr>\n",
              "    <tr>\n",
              "      <th>2</th>\n",
              "      <td>synthetic_data/cropped_images/synthetic_img_3.png</td>\n",
              "      <td>the</td>\n",
              "    </tr>\n",
              "    <tr>\n",
              "      <th>3</th>\n",
              "      <td>synthetic_data/cropped_images/synthetic_img_4.png</td>\n",
              "      <td>with</td>\n",
              "    </tr>\n",
              "    <tr>\n",
              "      <th>4</th>\n",
              "      <td>synthetic_data/cropped_images/synthetic_img_5.png</td>\n",
              "      <td>Los</td>\n",
              "    </tr>\n",
              "  </tbody>\n",
              "</table>\n",
              "</div>"
            ],
            "text/plain": [
              "                                               paths  words\n",
              "0  synthetic_data/cropped_images/synthetic_img_1.png  which\n",
              "1  synthetic_data/cropped_images/synthetic_img_2.png    and\n",
              "2  synthetic_data/cropped_images/synthetic_img_3.png    the\n",
              "3  synthetic_data/cropped_images/synthetic_img_4.png   with\n",
              "4  synthetic_data/cropped_images/synthetic_img_5.png    Los"
            ]
          },
          "metadata": {
            "tags": []
          },
          "execution_count": 258
        }
      ]
    },
    {
      "cell_type": "code",
      "metadata": {
        "id": "X9tyBj_KmdsB"
      },
      "source": [
        "final_synthetic_text_data.to_csv(\"synthtext_cropped_data.csv\", index = False)"
      ],
      "execution_count": null,
      "outputs": []
    },
    {
      "cell_type": "code",
      "metadata": {
        "id": "1HetQaYPmdsC"
      },
      "source": [
        ""
      ],
      "execution_count": null,
      "outputs": []
    }
  ]
}